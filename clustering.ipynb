{
  "cells": [
    {
      "cell_type": "code",
      "execution_count": null,
      "metadata": {
        "gather": {
          "logged": 1677689650403
        }
      },
      "outputs": [],
      "source": [
        "# imports\n",
        "import numpy as np\n",
        "import pandas as pd\n",
        "import openai\n",
        "\n",
        "# load data\n",
        "datafile_path = \"\" \n",
        "\n",
        "df = pd.read_csv(datafile_path)\n",
        "df[\"embedding\"] = df.embedding.apply(eval).apply(np.array)  # convert string to numpy array\n",
        "matrix = np.vstack(df.embedding.values)\n",
        "matrix.shape"
      ]
    },
    {
      "cell_type": "code",
      "execution_count": 29,
      "metadata": {
        "gather": {
          "logged": 1677689653109
        },
        "jupyter": {
          "outputs_hidden": false,
          "source_hidden": false
        },
        "nteract": {
          "transient": {
            "deleting": false
          }
        }
      },
      "outputs": [],
      "source": [
        "openai.api_key = ''\n",
        "openai.api_type = ''\n",
        "openai.api_base = ''\n",
        "openai.api_version = ''"
      ]
    },
    {
      "cell_type": "markdown",
      "metadata": {
        "nteract": {
          "transient": {
            "deleting": false
          }
        }
      },
      "source": [
        "## Find the clusters using K-means"
      ]
    },
    {
      "attachments": {},
      "cell_type": "markdown",
      "metadata": {},
      "source": [
        "The following cell creates the number of clusters defined in the variable n_clusters. If you don't know the optimal number, you can run the next cell which first calculates the optimal number of clusters for the dataset from a range of n clusters using the silhouette_score method."
      ]
    },
    {
      "cell_type": "code",
      "execution_count": null,
      "metadata": {
        "gather": {
          "logged": 1677689656887
        },
        "jupyter": {
          "outputs_hidden": false,
          "source_hidden": false
        },
        "nteract": {
          "transient": {
            "deleting": false
          }
        }
      },
      "outputs": [],
      "source": [
        "from sklearn.cluster import KMeans\n",
        "\n",
        "n_clusters = 10\n",
        "\n",
        "kmeans = KMeans(n_clusters=n_clusters, init=\"k-means++\", random_state=42)\n",
        "kmeans.fit(matrix)\n",
        "labels = kmeans.labels_\n",
        "df[\"Cluster\"] = labels"
      ]
    },
    {
      "cell_type": "code",
      "execution_count": null,
      "metadata": {},
      "outputs": [],
      "source": [
        "from sklearn.cluster import KMeans\n",
        "from sklearn.metrics import silhouette_score \n",
        "\n",
        "# define a range of possible numbers of clusters\n",
        "range_n_clusters = range(8,24)\n",
        "\n",
        "# variables to store the best silhouette score and corresponding number\n",
        "best_score = -1\n",
        "best_n_clusters = -1\n",
        "\n",
        "# Iterate over possible values of clusters\n",
        "for n_clusters in range_n_clusters:\n",
        "    # Fit Kmeans model and compute labels\n",
        "    kmeans = KMeans(n_clusters=n_clusters, init=\"k-means++\", random_state=42)\n",
        "    kmeans.fit(matrix)\n",
        "    labels = kmeans.labels_\n",
        "\n",
        "    # Compute silhouette score\n",
        "    score = silhouette_score(matrix, labels)\n",
        "\n",
        "    # Update best score and number of clusters if current score is better\n",
        "    if score > best_score:\n",
        "        best_score = score\n",
        "        best_n_clusters = n_clusters \n",
        "\n",
        "# Fit KMeans model with best number of clusters and compute labels\n",
        "kmeans = KMeans(n_clusters=best_n_clusters, init=\"k-means++\", random_state=42)\n",
        "kmeans.fit(matrix)\n",
        "labels = kmeans.labels_\n",
        "\n",
        "# Add Cluster labels to DataFrame\n",
        "df[\"Cluster\"] = labels\n",
        "\n",
        "# Print number of clusters\n",
        "print(best_n_clusters)"
      ]
    },
    {
      "cell_type": "code",
      "execution_count": null,
      "metadata": {
        "gather": {
          "logged": 1677689659148
        },
        "jupyter": {
          "outputs_hidden": false,
          "source_hidden": false
        },
        "nteract": {
          "transient": {
            "deleting": false
          }
        }
      },
      "outputs": [],
      "source": [
        "df.head(10)"
      ]
    },
    {
      "cell_type": "code",
      "execution_count": null,
      "metadata": {
        "gather": {
          "logged": 1677689667120
        },
        "jupyter": {
          "outputs_hidden": false,
          "source_hidden": false
        },
        "nteract": {
          "transient": {
            "deleting": false
          }
        }
      },
      "outputs": [],
      "source": [
        "from sklearn.manifold import TSNE\n",
        "import matplotlib\n",
        "import matplotlib.pyplot as plt\n",
        "\n",
        "tsne = TSNE(n_components=2, perplexity=15, random_state=42, init=\"random\", learning_rate=200)\n",
        "vis_dims2 = tsne.fit_transform(matrix)\n",
        "\n",
        "x = [x for x, y in vis_dims2]\n",
        "y = [y for x, y in vis_dims2]\n",
        "\n",
        "for category, color in enumerate([\"purple\", \"green\", \"red\", \"blue\", \"yellow\", \"orange\", \"grey\", \"black\", \"brown\",\"pink\"]):\n",
        "    xs = np.array(x)[df.Cluster == category]\n",
        "    ys = np.array(y)[df.Cluster == category]\n",
        "    plt.scatter(xs, ys, color=color, alpha=0.3)\n",
        "\n",
        "    avg_x = xs.mean()\n",
        "    avg_y = ys.mean()\n",
        "\n",
        "    plt.scatter(avg_x, avg_y, marker=\"x\", color=color, s=100)\n",
        "plt.title(\"Clusters identified visualized in language 2d using t-SNE\")"
      ]
    },
    {
      "cell_type": "markdown",
      "metadata": {
        "nteract": {
          "transient": {
            "deleting": false
          }
        }
      },
      "source": [
        "## Text samples in the clusters & naming the clusters"
      ]
    },
    {
      "cell_type": "code",
      "execution_count": 38,
      "metadata": {
        "gather": {
          "logged": 1677690571249
        },
        "jupyter": {
          "outputs_hidden": false,
          "source_hidden": false
        },
        "nteract": {
          "transient": {
            "deleting": false
          }
        }
      },
      "outputs": [],
      "source": [
        "import openai\n",
        "\n",
        "# Reading a description which belong to each group.\n",
        "rev_per_cluster = 5\n",
        "\n",
        "# Print results and save them in a .txt file\n",
        "\n",
        "with open('data/categories.txt', 'w') as file:\n",
        "    for i in range(n_clusters):\n",
        "        print(f\"Cluster {i} Theme:\", end=\" \", file=file)\n",
        "\n",
        "        descriptions = \"\\n\".join(\n",
        "            df[df.Cluster == i]\n",
        "            .cambio.str.replace(\"Title: \", \"\") \n",
        "            .str.replace(\"\\n\\nContent: \", \":  \")\n",
        "            .sample(rev_per_cluster, random_state=42)\n",
        "            .values\n",
        "        )\n",
        "        response = openai.Completion.create(\n",
        "            engine=\"text-davinci-003\",\n",
        "            prompt=f'What do the following descriptions have in common?\\n\\nDescriptions:\\n\"\"\"\\n{descriptions}\\n\"\"\"\\n\\nTheme:',\n",
        "            temperature=0,\n",
        "            max_tokens=64,\n",
        "            top_p=1,\n",
        "            frequency_penalty=0,\n",
        "            presence_penalty=0,\n",
        "        )\n",
        "        print(response[\"choices\"][0][\"text\"].replace(\"\\n\", \"\"), file=file)\n",
        "\n",
        "        sample_cluster_rows = df[df.Cluster == i].sample(rev_per_cluster, random_state=42)\n",
        "        for j in range(rev_per_cluster):\n",
        "            print(sample_cluster_rows.cambio.str[:70].values[j], file=file)\n",
        "\n",
        "        print(\"-\" * 100, file=file)"
      ]
    }
  ],
  "metadata": {
    "kernel_info": {
      "name": "python310-sdkv2"
    },
    "kernelspec": {
      "display_name": "Python 3",
      "language": "python",
      "name": "python3"
    },
    "language_info": {
      "codemirror_mode": {
        "name": "ipython",
        "version": 3
      },
      "file_extension": ".py",
      "mimetype": "text/x-python",
      "name": "python",
      "nbconvert_exporter": "python",
      "pygments_lexer": "ipython3",
      "version": "3.11.0"
    },
    "microsoft": {
      "host": {
        "AzureML": {
          "notebookHasBeenCompleted": true
        }
      },
      "ms_spell_check": {
        "ms_spell_check_language": "en"
      }
    },
    "nteract": {
      "version": "nteract-front-end@1.0.0"
    },
    "vscode": {
      "interpreter": {
        "hash": "c261aea317cc0286b3b3261fbba9abdec21eaa57589985bb7a274bf54d6cc0a7"
      }
    }
  },
  "nbformat": 4,
  "nbformat_minor": 2
}
